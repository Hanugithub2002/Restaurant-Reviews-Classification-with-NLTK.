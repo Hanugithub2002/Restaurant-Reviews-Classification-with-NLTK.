{
  "nbformat": 4,
  "nbformat_minor": 0,
  "metadata": {
    "colab": {
      "private_outputs": true,
      "provenance": []
    },
    "kernelspec": {
      "name": "python3",
      "display_name": "Python 3"
    },
    "language_info": {
      "name": "python"
    }
  },
  "cells": [
    {
      "cell_type": "code",
      "execution_count": null,
      "metadata": {
        "id": "1uiSyoPLI72Z"
      },
      "outputs": [],
      "source": []
    },
    {
      "cell_type": "markdown",
      "source": [
        "## **Restaurant Reviews Classification with nltk**"
      ],
      "metadata": {
        "id": "n1HD0XthKK1a"
      }
    },
    {
      "cell_type": "markdown",
      "source": [
        "## **1. Business Problam**"
      ],
      "metadata": {
        "id": "WUWpPxM5KZCF"
      }
    },
    {
      "cell_type": "code",
      "source": [
        "import numpy as np\n",
        "import matplotlib.pyplot as plt\n",
        "import pandas as pd\n"
      ],
      "metadata": {
        "id": "lOc8JHuTKW9S"
      },
      "execution_count": null,
      "outputs": []
    },
    {
      "source": [
        "import pandas as pd"
      ],
      "cell_type": "code",
      "metadata": {
        "id": "_vjus0SN8oK5"
      },
      "execution_count": null,
      "outputs": []
    },
    {
      "cell_type": "markdown",
      "source": [],
      "metadata": {
        "id": "7FeTtaxf8zlg"
      }
    },
    {
      "cell_type": "code",
      "source": [
        "data = pd.read_csv(\"Restaurant_Reviews.tsv\",sep='\\t', quoting=3)"
      ],
      "metadata": {
        "id": "YmDwOo8v77Bp"
      },
      "execution_count": null,
      "outputs": []
    },
    {
      "cell_type": "code",
      "source": [
        "data.head()"
      ],
      "metadata": {
        "id": "OWNSUzZ88sqx"
      },
      "execution_count": null,
      "outputs": []
    },
    {
      "cell_type": "code",
      "source": [
        "data.tail()# check how many record in dataset."
      ],
      "metadata": {
        "id": "nMbZZWIw8-Mg"
      },
      "execution_count": null,
      "outputs": []
    },
    {
      "cell_type": "code",
      "source": [
        "data['Liked'].value_counts() # count the records."
      ],
      "metadata": {
        "id": "tRwwODB_9ByQ"
      },
      "execution_count": null,
      "outputs": []
    },
    {
      "cell_type": "markdown",
      "source": [
        "**#  2. Cleaning Text Data**"
      ],
      "metadata": {
        "id": "9YRPaPt29ZS7"
      }
    },
    {
      "cell_type": "code",
      "source": [
        "import nltk\n",
        "import re\n"
      ],
      "metadata": {
        "id": "MusyybZt9SVx"
      },
      "execution_count": null,
      "outputs": []
    },
    {
      "cell_type": "code",
      "source": [
        "nltk.download('stopwords') # nltk  library"
      ],
      "metadata": {
        "id": "IhGEmct1-KHx"
      },
      "execution_count": null,
      "outputs": []
    },
    {
      "cell_type": "code",
      "source": [
        "from nltk.corpus import stopwords"
      ],
      "metadata": {
        "id": "PEdtUT2X-SNR"
      },
      "execution_count": null,
      "outputs": []
    },
    {
      "cell_type": "code",
      "source": [
        "data['Review'][0]"
      ],
      "metadata": {
        "id": "Q-eYdF61Ar-j"
      },
      "execution_count": null,
      "outputs": []
    },
    {
      "cell_type": "code",
      "source": [
        "review = re.sub('[^a-zA-Z]',' ',data['Review'][0]) # use to remove punctuation marks"
      ],
      "metadata": {
        "id": "rhWcGRo7A98q"
      },
      "execution_count": null,
      "outputs": []
    },
    {
      "cell_type": "code",
      "source": [
        "review"
      ],
      "metadata": {
        "id": "8nnHbkifBsB0"
      },
      "execution_count": null,
      "outputs": []
    },
    {
      "cell_type": "code",
      "source": [
        "review = review.lower()# convert lower case\n"
      ],
      "metadata": {
        "id": "zpZAX26mBvnD"
      },
      "execution_count": null,
      "outputs": []
    },
    {
      "cell_type": "code",
      "source": [
        "review"
      ],
      "metadata": {
        "id": "HszIWKoZCz8N"
      },
      "execution_count": null,
      "outputs": []
    },
    {
      "source": [
        "# Assuming 'data' is a DataFrame and 'Review' is a column of strings\n",
        "review = re.sub('[^a-zA-Z]',' ',data['Review'][0]) # use to remove punctuation marks\n"
      ],
      "cell_type": "code",
      "metadata": {
        "id": "v1M47yCQD-yN"
      },
      "execution_count": null,
      "outputs": []
    },
    {
      "cell_type": "code",
      "source": [
        "review = review.lower()# convert lower case\n",
        "review_list = review.split() # Split the string into a list of words and assign to a new variable\n",
        "print(review_list) # Print the list of words"
      ],
      "metadata": {
        "id": "G5Zjy7S3EHxl"
      },
      "execution_count": null,
      "outputs": []
    },
    {
      "cell_type": "code",
      "source": [
        "stopwords.words('english')"
      ],
      "metadata": {
        "collapsed": true,
        "id": "mYK1HJlJEI4k"
      },
      "execution_count": null,
      "outputs": []
    },
    {
      "cell_type": "code",
      "source": [
        "preview = []\n",
        "for word in review:\n",
        "  if word not in stopwords.words('english'):\n",
        "    preview.append(word)"
      ],
      "metadata": {
        "id": "in9N675JEQP1"
      },
      "execution_count": null,
      "outputs": []
    },
    {
      "cell_type": "code",
      "source": [
        "preview"
      ],
      "metadata": {
        "collapsed": true,
        "id": "mYUXfYgHEkeN"
      },
      "execution_count": null,
      "outputs": []
    },
    {
      "cell_type": "code",
      "source": [
        "review = [word for word in review if word not in stopwords.words('english')]"
      ],
      "metadata": {
        "id": "tNju5N0qEsuV"
      },
      "execution_count": null,
      "outputs": []
    },
    {
      "cell_type": "code",
      "source": [
        "review"
      ],
      "metadata": {
        "collapsed": true,
        "id": "Cr59rpZtFdZ2"
      },
      "execution_count": null,
      "outputs": []
    },
    {
      "cell_type": "markdown",
      "source": [
        "# **Stemming **"
      ],
      "metadata": {
        "id": "GKsAhxkaF2r3"
      }
    },
    {
      "cell_type": "code",
      "source": [
        "from nltk.stem.porter import PorterStemmer\n",
        "ps = PorterStemmer()"
      ],
      "metadata": {
        "id": "Jyd7_FqLFfE9"
      },
      "execution_count": null,
      "outputs": []
    },
    {
      "cell_type": "code",
      "source": [
        "review=[ps.stem (word)for word in review]"
      ],
      "metadata": {
        "id": "MqEDGSM4GCkm"
      },
      "execution_count": null,
      "outputs": []
    },
    {
      "cell_type": "code",
      "source": [
        "review"
      ],
      "metadata": {
        "collapsed": true,
        "id": "1nuFl_o2GMGW"
      },
      "execution_count": null,
      "outputs": []
    },
    {
      "cell_type": "code",
      "source": [
        "review =\" \".join(review)"
      ],
      "metadata": {
        "id": "zv2z90fVGOLF"
      },
      "execution_count": null,
      "outputs": []
    },
    {
      "cell_type": "code",
      "source": [
        "print(review)"
      ],
      "metadata": {
        "id": "7X8eONaqHs-H"
      },
      "execution_count": null,
      "outputs": []
    },
    {
      "cell_type": "code",
      "source": [
        "corpus = []\n",
        "\n",
        "ps = PorterStemmer()\n",
        "for i in range(len(data)):\n",
        " review = re.sub('[^a-zA-Z]',' ',data['Review'][i])\n",
        " review = review.lower()\n",
        " review = review.split()\n",
        " review = [ps.stem(word) for word in review if word not in stopwords.words('english')]\n",
        " review = \" \".join(review)\n",
        "\n",
        " corpus.append(review)\n"
      ],
      "metadata": {
        "collapsed": true,
        "id": "UR4gRqXKHvO-"
      },
      "execution_count": null,
      "outputs": []
    },
    {
      "cell_type": "code",
      "source": [
        "print(corpus)"
      ],
      "metadata": {
        "id": "AOND6Q7III_u"
      },
      "execution_count": null,
      "outputs": []
    },
    {
      "cell_type": "markdown",
      "source": [
        "## 3. Bag of Word Model"
      ],
      "metadata": {
        "id": "E_bJarWNOvf8"
      }
    },
    {
      "cell_type": "code",
      "source": [
        "from sklearn.feature_extraction.text import CountVectorizer\n",
        "cv = CountVectorizer(max_features=1500)"
      ],
      "metadata": {
        "id": "MI4vGI8BJz03"
      },
      "execution_count": null,
      "outputs": []
    },
    {
      "cell_type": "code",
      "source": [
        "x = cv.fit_transform(corpus).toarray()"
      ],
      "metadata": {
        "id": "M2VvbOdfG3yX"
      },
      "execution_count": null,
      "outputs": []
    },
    {
      "cell_type": "code",
      "source": [
        "x.shape"
      ],
      "metadata": {
        "id": "wWeu20iPHKUn"
      },
      "execution_count": null,
      "outputs": []
    },
    {
      "cell_type": "code",
      "source": [
        "y = data.iloc[:,1].values"
      ],
      "metadata": {
        "id": "W6SGbSoMHNdH"
      },
      "execution_count": null,
      "outputs": []
    },
    {
      "cell_type": "code",
      "source": [
        "y.shape"
      ],
      "metadata": {
        "id": "eXY0wJ55ITPQ"
      },
      "execution_count": null,
      "outputs": []
    },
    {
      "cell_type": "code",
      "source": [
        "y[:10]"
      ],
      "metadata": {
        "id": "m0OXh_OuIVUI"
      },
      "execution_count": null,
      "outputs": []
    },
    {
      "cell_type": "markdown",
      "source": [
        "# **3.Apply Naive Bayes Algorithm**"
      ],
      "metadata": {
        "id": "s6w014EHIdrL"
      }
    },
    {
      "cell_type": "code",
      "source": [
        "from sklearn.model_selection import train_test_split\n",
        "x_train,x_test,y_train,y_test = train_test_split(x,y,test_size=0.20,random_state=0)"
      ],
      "metadata": {
        "id": "RVnzohjSIr7Z"
      },
      "execution_count": null,
      "outputs": []
    },
    {
      "cell_type": "code",
      "source": [
        "x_train.shape,x_test.shape # chack test and train data"
      ],
      "metadata": {
        "id": "M3MA6SEpJeFg"
      },
      "execution_count": null,
      "outputs": []
    },
    {
      "cell_type": "code",
      "source": [
        "y_train.shape,y_test.shape"
      ],
      "metadata": {
        "id": "SFv16noXJmso"
      },
      "execution_count": null,
      "outputs": []
    },
    {
      "cell_type": "code",
      "source": [
        "from sklearn.naive_bayes import GaussianNB\n"
      ],
      "metadata": {
        "id": "UxNWwUlKJuyB"
      },
      "execution_count": null,
      "outputs": []
    },
    {
      "cell_type": "code",
      "source": [
        "classifier = GaussianNB()"
      ],
      "metadata": {
        "id": "sCiecRH1LA4J"
      },
      "execution_count": null,
      "outputs": []
    },
    {
      "cell_type": "code",
      "source": [
        "classifier.fit(x_train,y_train)"
      ],
      "metadata": {
        "id": "IUbU3a_nLGLh"
      },
      "execution_count": null,
      "outputs": []
    },
    {
      "cell_type": "code",
      "source": [
        "y_pred=classifier.predict(x_test)"
      ],
      "metadata": {
        "id": "tpz6aEafLPVx"
      },
      "execution_count": null,
      "outputs": []
    },
    {
      "cell_type": "code",
      "source": [
        "from sklearn.metrics import accuracy_score"
      ],
      "metadata": {
        "id": "UlnY62m4LXNw"
      },
      "execution_count": null,
      "outputs": []
    },
    {
      "cell_type": "code",
      "source": [
        "accuracy_score(y_test,y_pred) # check accurecy"
      ],
      "metadata": {
        "id": "txFaZl_7LfrR"
      },
      "execution_count": null,
      "outputs": []
    },
    {
      "cell_type": "code",
      "source": [
        "200 *0.73"
      ],
      "metadata": {
        "id": "lUw8GTo5LkpS"
      },
      "execution_count": null,
      "outputs": []
    },
    {
      "cell_type": "code",
      "source": [],
      "metadata": {
        "id": "4DtOCH7JLwwa"
      },
      "execution_count": null,
      "outputs": []
    }
  ]
}